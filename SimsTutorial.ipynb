{
 "cells": [
  {
   "cell_type": "markdown",
   "id": "f5a54dae",
   "metadata": {},
   "source": [
    "## This notebook is based on a series of tutorials/examples availble in the main redback repo. \n",
    "\n",
    "You will need to install Redback. Instructions available at https://redback.readthedocs.io/en/latest/. I suggest installing from source via GitHub but you can also install via pip.\n",
    "\n",
    "The specific examples in the main repo that this tutorial is based off are\n",
    "- simulate basic transient \n",
    "- simulate kilonova\n",
    "- ToO simulations with redback \n",
    "- simulate single transient in rubin \n",
    "- simulate survey"
   ]
  },
  {
   "cell_type": "code",
   "execution_count": 4,
   "id": "a4f45a82",
   "metadata": {},
   "outputs": [],
   "source": [
    "import redback \n",
    "import numpy as np\n",
    "import pandas as pd\n",
    "from redback.simulate_transients import SimulateOpticalTransient, SimulateGenericTransient, SimulateFullOpticalSurvey\n",
    "import matplotlib.pyplot as plt\n",
    "import bilby\n",
    "%matplotlib inline"
   ]
  },
  {
   "cell_type": "markdown",
   "id": "8d474547",
   "metadata": {},
   "source": [
    "### You should be using redback version 1.02 or above. If no version info is printed when you first import redback you need to update redback. "
   ]
  },
  {
   "cell_type": "markdown",
   "id": "10bd8791",
   "metadata": {},
   "source": [
    "Let's first start with something basic. As all redback models are callable functions, we can just call the model on an abitrary time array with some other inputs, add some noise and call it 'simulated data'. "
   ]
  },
  {
   "cell_type": "markdown",
   "id": "0a25786b",
   "metadata": {},
   "source": [
    "For the purposes of this tutorial we will mostly use a simple kilonova or afterglow model. But note that any model implemented in redback will work exactly the same way. And when we start using the simulation module users could also pass in their own function"
   ]
  },
  {
   "cell_type": "code",
   "execution_count": 15,
   "id": "224d21e4",
   "metadata": {},
   "outputs": [],
   "source": [
    "model = 'tophat' \n",
    "\n",
    "# Lets set up the function of this model, we could import it directly (as we import e.g., pandas)\n",
    "# but we have a more convenient option provided by redback\n",
    "\n",
    "function = redback.model_library.all_models_dict[model]\n",
    "\n",
    "# This now has the function behind the model. Let's inpsect what it requires. \n",
    "# We are using jupyter so this is easy. We could also look at the API DOCS"
   ]
  },
  {
   "cell_type": "code",
   "execution_count": 16,
   "id": "1770e62a",
   "metadata": {},
   "outputs": [],
   "source": [
    "function?"
   ]
  },
  {
   "cell_type": "markdown",
   "id": "66a11926",
   "metadata": {},
   "source": [
    "If we need more information, we can look at the paper that describes the model. This is conveniently available via"
   ]
  },
  {
   "cell_type": "code",
   "execution_count": 17,
   "id": "04a740e6",
   "metadata": {},
   "outputs": [
    {
     "data": {
      "text/plain": [
       "'https://ui.adsabs.harvard.edu/abs/2020ApJ...896..166R/abstract'"
      ]
     },
     "execution_count": 17,
     "metadata": {},
     "output_type": "execute_result"
    }
   ],
   "source": [
    "function.citation"
   ]
  },
  {
   "cell_type": "code",
   "execution_count": 22,
   "id": "0bff65b3",
   "metadata": {},
   "outputs": [
    {
     "data": {
      "text/plain": [
       "Text(0.5, 0, 'time (d)')"
      ]
     },
     "execution_count": 22,
     "metadata": {},
     "output_type": "execute_result"
    },
    {
     "data": {
      "image/png": "[encoded data removed]",
      "text/plain": [
       "<Figure size 640x480 with 1 Axes>"
      ]
     },
     "metadata": {},
     "output_type": "display_data"
    }
   ],
   "source": [
    "model = 'one_component_kilonova_model' \n",
    "function = redback.model_library.all_models_dict[model]\n",
    "\n",
    "# evaluate this model on a time array\n",
    "tt = np.linspace(0.5, 20, 50)\n",
    "\n",
    "# define other parameters required by the model \n",
    "redshift = 0.01\n",
    "mej = 0.04\n",
    "vej = 0.25\n",
    "kappa = 10\n",
    "\n",
    "# Define other kwargs required by the model. \n",
    "# These could be passed together in a dictionary that is unpacked.\n",
    "\n",
    "kwargs = {}\n",
    "kwargs['output_format'] = 'magnitude'\n",
    "kwargs['bands'] = 'lsstg'\n",
    "\n",
    "mags = function(tt, redshift=redshift, mej=mej, vej=vej, kappa=kappa, **kwargs)\n",
    "\n",
    "plt.plot(tt, mags)\n",
    "plt.ylim(24, 22)\n",
    "plt.ylabel('Magnitude')\n",
    "plt.xlabel('time (d)')"
   ]
  },
  {
   "cell_type": "markdown",
   "id": "76bc36bd",
   "metadata": {},
   "source": [
    "We can take random slices of this output, add noise and voila we have some 'simulated data'. In the simulation module we streamline this generic transient simulation interface a fair bit. "
   ]
  },
  {
   "cell_type": "code",
   "execution_count": 30,
   "id": "5b6b603d",
   "metadata": {},
   "outputs": [],
   "source": [
    "# Let's set up the parameters of our model\n",
    "# We will use the one_component_kilonova_model implemented in redback but any optical model in Redback will work.\n",
    "bands = ['lsstg', 'lsstr', 'lssti']\n",
    "times = np.linspace(0.2, 10, 20) # days\n",
    "model_kwargs = {'bands':bands, 'output_format':'magnitude'}\n",
    "num_of_data_points = 40 # the number of data points to generate\n",
    "parameters = {}\n",
    "parameters['mej'] = 0.05\n",
    "parameters['redshift'] = 0.01\n",
    "parameters['temperature_floor'] = 3000\n",
    "parameters['kappa'] = 1\n",
    "parameters['vej'] = 0.2\n",
    "kn_obs = SimulateGenericTransient(model='one_component_kilonova_model', parameters=parameters,\n",
    "                                  times=times, data_points=num_of_data_points, model_kwargs=model_kwargs,\n",
    "                                  multiwavelength_transient=True, noise_term=0.02)"
   ]
  },
  {
   "cell_type": "markdown",
   "id": "f5a4809d",
   "metadata": {},
   "source": [
    "We can save this data too "
   ]
  },
  {
   "cell_type": "code",
   "execution_count": 31,
   "id": "4cbc5b13",
   "metadata": {},
   "outputs": [],
   "source": [
    "kn_obs.save_transient('AT2024ggha')"
   ]
  },
  {
   "cell_type": "markdown",
   "id": "68199b67",
   "metadata": {},
   "source": [
    "This returns a kn_obs object which has a bunch of attributes. Let's look at the data"
   ]
  },
  {
   "cell_type": "code",
   "execution_count": 32,
   "id": "791d14fa",
   "metadata": {},
   "outputs": [
    {
     "data": {
      "text/html": [
       "<div>\n",
       "<style scoped>\n",
       "    .dataframe tbody tr th:only-of-type {\n",
       "        vertical-align: middle;\n",
       "    }\n",
       "\n",
       "    .dataframe tbody tr th {\n",
       "        vertical-align: top;\n",
       "    }\n",
       "\n",
       "    .dataframe thead th {\n",
       "        text-align: right;\n",
       "    }\n",
       "</style>\n",
       "<table border=\"1\" class=\"dataframe\">\n",
       "  <thead>\n",
       "    <tr style=\"text-align: right;\">\n",
       "      <th></th>\n",
       "      <th>time</th>\n",
       "      <th>band</th>\n",
       "      <th>true_output</th>\n",
       "      <th>output</th>\n",
       "      <th>output_error</th>\n",
       "    </tr>\n",
       "  </thead>\n",
       "  <tbody>\n",
       "    <tr>\n",
       "      <th>0</th>\n",
       "      <td>0.200000</td>\n",
       "      <td>lssti</td>\n",
       "      <td>20.400056</td>\n",
       "      <td>20.246519</td>\n",
       "      <td>0.408001</td>\n",
       "    </tr>\n",
       "    <tr>\n",
       "      <th>1</th>\n",
       "      <td>0.200000</td>\n",
       "      <td>lsstr</td>\n",
       "      <td>20.300438</td>\n",
       "      <td>20.105660</td>\n",
       "      <td>0.406009</td>\n",
       "    </tr>\n",
       "    <tr>\n",
       "      <th>2</th>\n",
       "      <td>0.200000</td>\n",
       "      <td>lsstg</td>\n",
       "      <td>20.309982</td>\n",
       "      <td>20.451871</td>\n",
       "      <td>0.406200</td>\n",
       "    </tr>\n",
       "    <tr>\n",
       "      <th>3</th>\n",
       "      <td>0.715789</td>\n",
       "      <td>lssti</td>\n",
       "      <td>18.982645</td>\n",
       "      <td>18.963839</td>\n",
       "      <td>0.379653</td>\n",
       "    </tr>\n",
       "    <tr>\n",
       "      <th>4</th>\n",
       "      <td>0.715789</td>\n",
       "      <td>lssti</td>\n",
       "      <td>18.982645</td>\n",
       "      <td>18.838371</td>\n",
       "      <td>0.379653</td>\n",
       "    </tr>\n",
       "    <tr>\n",
       "      <th>5</th>\n",
       "      <td>1.231579</td>\n",
       "      <td>lsstr</td>\n",
       "      <td>18.933235</td>\n",
       "      <td>18.888363</td>\n",
       "      <td>0.378665</td>\n",
       "    </tr>\n",
       "    <tr>\n",
       "      <th>6</th>\n",
       "      <td>1.747368</td>\n",
       "      <td>lssti</td>\n",
       "      <td>18.601587</td>\n",
       "      <td>18.607018</td>\n",
       "      <td>0.372032</td>\n",
       "    </tr>\n",
       "    <tr>\n",
       "      <th>7</th>\n",
       "      <td>2.263158</td>\n",
       "      <td>lsstg</td>\n",
       "      <td>20.471961</td>\n",
       "      <td>20.290317</td>\n",
       "      <td>0.409439</td>\n",
       "    </tr>\n",
       "    <tr>\n",
       "      <th>8</th>\n",
       "      <td>2.263158</td>\n",
       "      <td>lssti</td>\n",
       "      <td>18.751512</td>\n",
       "      <td>18.709588</td>\n",
       "      <td>0.375030</td>\n",
       "    </tr>\n",
       "    <tr>\n",
       "      <th>9</th>\n",
       "      <td>2.778947</td>\n",
       "      <td>lsstg</td>\n",
       "      <td>21.156545</td>\n",
       "      <td>21.243033</td>\n",
       "      <td>0.423131</td>\n",
       "    </tr>\n",
       "    <tr>\n",
       "      <th>10</th>\n",
       "      <td>2.778947</td>\n",
       "      <td>lsstg</td>\n",
       "      <td>21.156545</td>\n",
       "      <td>20.647168</td>\n",
       "      <td>0.423131</td>\n",
       "    </tr>\n",
       "    <tr>\n",
       "      <th>11</th>\n",
       "      <td>3.294737</td>\n",
       "      <td>lssti</td>\n",
       "      <td>19.406404</td>\n",
       "      <td>19.009669</td>\n",
       "      <td>0.388128</td>\n",
       "    </tr>\n",
       "    <tr>\n",
       "      <th>12</th>\n",
       "      <td>3.294737</td>\n",
       "      <td>lsstr</td>\n",
       "      <td>20.259245</td>\n",
       "      <td>20.100506</td>\n",
       "      <td>0.405185</td>\n",
       "    </tr>\n",
       "    <tr>\n",
       "      <th>13</th>\n",
       "      <td>3.294737</td>\n",
       "      <td>lsstr</td>\n",
       "      <td>20.259245</td>\n",
       "      <td>20.593736</td>\n",
       "      <td>0.405185</td>\n",
       "    </tr>\n",
       "    <tr>\n",
       "      <th>14</th>\n",
       "      <td>3.810526</td>\n",
       "      <td>lsstr</td>\n",
       "      <td>20.439138</td>\n",
       "      <td>20.622949</td>\n",
       "      <td>0.408783</td>\n",
       "    </tr>\n",
       "    <tr>\n",
       "      <th>15</th>\n",
       "      <td>3.810526</td>\n",
       "      <td>lsstg</td>\n",
       "      <td>21.987790</td>\n",
       "      <td>22.164055</td>\n",
       "      <td>0.439756</td>\n",
       "    </tr>\n",
       "    <tr>\n",
       "      <th>16</th>\n",
       "      <td>3.810526</td>\n",
       "      <td>lsstg</td>\n",
       "      <td>21.987790</td>\n",
       "      <td>21.864317</td>\n",
       "      <td>0.439756</td>\n",
       "    </tr>\n",
       "    <tr>\n",
       "      <th>17</th>\n",
       "      <td>4.326316</td>\n",
       "      <td>lsstg</td>\n",
       "      <td>22.216378</td>\n",
       "      <td>22.637432</td>\n",
       "      <td>0.444328</td>\n",
       "    </tr>\n",
       "    <tr>\n",
       "      <th>18</th>\n",
       "      <td>4.326316</td>\n",
       "      <td>lsstg</td>\n",
       "      <td>22.216378</td>\n",
       "      <td>22.292781</td>\n",
       "      <td>0.444328</td>\n",
       "    </tr>\n",
       "    <tr>\n",
       "      <th>19</th>\n",
       "      <td>4.326316</td>\n",
       "      <td>lsstr</td>\n",
       "      <td>20.668864</td>\n",
       "      <td>20.081402</td>\n",
       "      <td>0.413377</td>\n",
       "    </tr>\n",
       "    <tr>\n",
       "      <th>20</th>\n",
       "      <td>4.842105</td>\n",
       "      <td>lssti</td>\n",
       "      <td>20.080106</td>\n",
       "      <td>20.467784</td>\n",
       "      <td>0.401602</td>\n",
       "    </tr>\n",
       "    <tr>\n",
       "      <th>21</th>\n",
       "      <td>5.357895</td>\n",
       "      <td>lsstg</td>\n",
       "      <td>22.747134</td>\n",
       "      <td>21.834039</td>\n",
       "      <td>0.454943</td>\n",
       "    </tr>\n",
       "    <tr>\n",
       "      <th>22</th>\n",
       "      <td>5.873684</td>\n",
       "      <td>lsstr</td>\n",
       "      <td>21.475756</td>\n",
       "      <td>21.049751</td>\n",
       "      <td>0.429515</td>\n",
       "    </tr>\n",
       "    <tr>\n",
       "      <th>23</th>\n",
       "      <td>6.389474</td>\n",
       "      <td>lsstr</td>\n",
       "      <td>21.742487</td>\n",
       "      <td>21.606992</td>\n",
       "      <td>0.434850</td>\n",
       "    </tr>\n",
       "    <tr>\n",
       "      <th>24</th>\n",
       "      <td>6.905263</td>\n",
       "      <td>lsstr</td>\n",
       "      <td>21.989434</td>\n",
       "      <td>22.432959</td>\n",
       "      <td>0.439789</td>\n",
       "    </tr>\n",
       "    <tr>\n",
       "      <th>25</th>\n",
       "      <td>6.905263</td>\n",
       "      <td>lsstg</td>\n",
       "      <td>23.536814</td>\n",
       "      <td>23.283600</td>\n",
       "      <td>0.470736</td>\n",
       "    </tr>\n",
       "    <tr>\n",
       "      <th>26</th>\n",
       "      <td>7.421053</td>\n",
       "      <td>lsstr</td>\n",
       "      <td>22.209387</td>\n",
       "      <td>22.885023</td>\n",
       "      <td>0.444188</td>\n",
       "    </tr>\n",
       "    <tr>\n",
       "      <th>27</th>\n",
       "      <td>7.421053</td>\n",
       "      <td>lsstg</td>\n",
       "      <td>23.756766</td>\n",
       "      <td>24.073816</td>\n",
       "      <td>0.475135</td>\n",
       "    </tr>\n",
       "    <tr>\n",
       "      <th>28</th>\n",
       "      <td>7.421053</td>\n",
       "      <td>lsstr</td>\n",
       "      <td>22.209387</td>\n",
       "      <td>21.836962</td>\n",
       "      <td>0.444188</td>\n",
       "    </tr>\n",
       "    <tr>\n",
       "      <th>29</th>\n",
       "      <td>7.421053</td>\n",
       "      <td>lsstr</td>\n",
       "      <td>22.209387</td>\n",
       "      <td>21.405118</td>\n",
       "      <td>0.444188</td>\n",
       "    </tr>\n",
       "    <tr>\n",
       "      <th>30</th>\n",
       "      <td>7.936842</td>\n",
       "      <td>lsstr</td>\n",
       "      <td>22.399419</td>\n",
       "      <td>23.132648</td>\n",
       "      <td>0.447988</td>\n",
       "    </tr>\n",
       "    <tr>\n",
       "      <th>31</th>\n",
       "      <td>7.936842</td>\n",
       "      <td>lsstr</td>\n",
       "      <td>22.399419</td>\n",
       "      <td>21.696011</td>\n",
       "      <td>0.447988</td>\n",
       "    </tr>\n",
       "    <tr>\n",
       "      <th>32</th>\n",
       "      <td>7.936842</td>\n",
       "      <td>lsstg</td>\n",
       "      <td>23.946799</td>\n",
       "      <td>23.688286</td>\n",
       "      <td>0.478936</td>\n",
       "    </tr>\n",
       "    <tr>\n",
       "      <th>33</th>\n",
       "      <td>8.452632</td>\n",
       "      <td>lssti</td>\n",
       "      <td>21.713969</td>\n",
       "      <td>21.100651</td>\n",
       "      <td>0.434279</td>\n",
       "    </tr>\n",
       "    <tr>\n",
       "      <th>34</th>\n",
       "      <td>8.452632</td>\n",
       "      <td>lsstr</td>\n",
       "      <td>22.560479</td>\n",
       "      <td>22.373084</td>\n",
       "      <td>0.451210</td>\n",
       "    </tr>\n",
       "    <tr>\n",
       "      <th>35</th>\n",
       "      <td>8.968421</td>\n",
       "      <td>lsstr</td>\n",
       "      <td>22.696013</td>\n",
       "      <td>23.360766</td>\n",
       "      <td>0.453920</td>\n",
       "    </tr>\n",
       "    <tr>\n",
       "      <th>36</th>\n",
       "      <td>8.968421</td>\n",
       "      <td>lsstg</td>\n",
       "      <td>24.243393</td>\n",
       "      <td>24.628314</td>\n",
       "      <td>0.484868</td>\n",
       "    </tr>\n",
       "    <tr>\n",
       "      <th>37</th>\n",
       "      <td>9.484211</td>\n",
       "      <td>lsstr</td>\n",
       "      <td>22.810237</td>\n",
       "      <td>23.181446</td>\n",
       "      <td>0.456205</td>\n",
       "    </tr>\n",
       "    <tr>\n",
       "      <th>38</th>\n",
       "      <td>10.000000</td>\n",
       "      <td>lsstg</td>\n",
       "      <td>24.454429</td>\n",
       "      <td>24.836348</td>\n",
       "      <td>0.489089</td>\n",
       "    </tr>\n",
       "    <tr>\n",
       "      <th>39</th>\n",
       "      <td>10.000000</td>\n",
       "      <td>lsstg</td>\n",
       "      <td>24.454429</td>\n",
       "      <td>24.707746</td>\n",
       "      <td>0.489089</td>\n",
       "    </tr>\n",
       "  </tbody>\n",
       "</table>\n",
       "</div>"
      ],
      "text/plain": [
       "         time   band  true_output     output  output_error\n",
       "0    0.200000  lssti    20.400056  20.246519      0.408001\n",
       "1    0.200000  lsstr    20.300438  20.105660      0.406009\n",
       "2    0.200000  lsstg    20.309982  20.451871      0.406200\n",
       "3    0.715789  lssti    18.982645  18.963839      0.379653\n",
       "4    0.715789  lssti    18.982645  18.838371      0.379653\n",
       "5    1.231579  lsstr    18.933235  18.888363      0.378665\n",
       "6    1.747368  lssti    18.601587  18.607018      0.372032\n",
       "7    2.263158  lsstg    20.471961  20.290317      0.409439\n",
       "8    2.263158  lssti    18.751512  18.709588      0.375030\n",
       "9    2.778947  lsstg    21.156545  21.243033      0.423131\n",
       "10   2.778947  lsstg    21.156545  20.647168      0.423131\n",
       "11   3.294737  lssti    19.406404  19.009669      0.388128\n",
       "12   3.294737  lsstr    20.259245  20.100506      0.405185\n",
       "13   3.294737  lsstr    20.259245  20.593736      0.405185\n",
       "14   3.810526  lsstr    20.439138  20.622949      0.408783\n",
       "15   3.810526  lsstg    21.987790  22.164055      0.439756\n",
       "16   3.810526  lsstg    21.987790  21.864317      0.439756\n",
       "17   4.326316  lsstg    22.216378  22.637432      0.444328\n",
       "18   4.326316  lsstg    22.216378  22.292781      0.444328\n",
       "19   4.326316  lsstr    20.668864  20.081402      0.413377\n",
       "20   4.842105  lssti    20.080106  20.467784      0.401602\n",
       "21   5.357895  lsstg    22.747134  21.834039      0.454943\n",
       "22   5.873684  lsstr    21.475756  21.049751      0.429515\n",
       "23   6.389474  lsstr    21.742487  21.606992      0.434850\n",
       "24   6.905263  lsstr    21.989434  22.432959      0.439789\n",
       "25   6.905263  lsstg    23.536814  23.283600      0.470736\n",
       "26   7.421053  lsstr    22.209387  22.885023      0.444188\n",
       "27   7.421053  lsstg    23.756766  24.073816      0.475135\n",
       "28   7.421053  lsstr    22.209387  21.836962      0.444188\n",
       "29   7.421053  lsstr    22.209387  21.405118      0.444188\n",
       "30   7.936842  lsstr    22.399419  23.132648      0.447988\n",
       "31   7.936842  lsstr    22.399419  21.696011      0.447988\n",
       "32   7.936842  lsstg    23.946799  23.688286      0.478936\n",
       "33   8.452632  lssti    21.713969  21.100651      0.434279\n",
       "34   8.452632  lsstr    22.560479  22.373084      0.451210\n",
       "35   8.968421  lsstr    22.696013  23.360766      0.453920\n",
       "36   8.968421  lsstg    24.243393  24.628314      0.484868\n",
       "37   9.484211  lsstr    22.810237  23.181446      0.456205\n",
       "38  10.000000  lsstg    24.454429  24.836348      0.489089\n",
       "39  10.000000  lsstg    24.454429  24.707746      0.489089"
      ]
     },
     "execution_count": 32,
     "metadata": {},
     "output_type": "execute_result"
    }
   ],
   "source": [
    "kn_obs.data"
   ]
  },
  {
   "cell_type": "code",
   "execution_count": 33,
   "id": "744888ae",
   "metadata": {},
   "outputs": [
    {
     "name": "stderr",
     "output_type": "stream",
     "text": [
      "14:44 redback WARNING : [Errno 2] No such file or directory: 'kilonova//my_kilonova_metadata.csv'\n",
      "14:44 redback WARNING : Setting metadata to None. This is not an error, but a warning that no metadata could be found online.\n"
     ]
    },
    {
     "data": {
      "image/png": "[encoded data removed]",
      "text/plain": [
       "<Figure size 640x480 with 1 Axes>"
      ]
     },
     "metadata": {},
     "output_type": "display_data"
    }
   ],
   "source": [
    "# But why print when you can load this up into a redback transient and plot.\n",
    "kilonova = redback.transient.Kilonova(name='my_kilonova', magnitude=kn_obs.data['output'].values,\n",
    "                                      time=kn_obs.data['time'].values, data_mode='magnitude',\n",
    "                                      magnitude_err=kn_obs.data['output_error'].values, bands=kn_obs.data['band'].values)\n",
    "kilonova.plot_data()\n",
    "plt.show()"
   ]
  },
  {
   "cell_type": "markdown",
   "id": "98361110",
   "metadata": {},
   "source": [
    "With the kilonova object set up, you can do inference on this data the exact same way as you would for any other transient."
   ]
  },
  {
   "cell_type": "markdown",
   "id": "4f80cb9b",
   "metadata": {},
   "source": [
    "## That was a very generic interface. Let's make it a bit more realistic. And consider a telescope/limiting magnitudes/etc"
   ]
  },
  {
   "cell_type": "markdown",
   "id": "6972a25b",
   "metadata": {},
   "source": [
    "We first design a strategy. This takes the form of a dataframe which specifies sky pointings, time, limiting mags, and the bands"
   ]
  },
  {
   "cell_type": "code",
   "execution_count": 37,
   "id": "a51881d3",
   "metadata": {},
   "outputs": [
    {
     "name": "stdout",
     "output_type": "stream",
     "text": [
      "         expMJD  _ra  _dec filter  fiveSigmaDepth\n",
      "0  59581.078907  1.0   1.5  lsstz            23.0\n",
      "0  59582.521941  1.0   1.5  lsstg            25.0\n",
      "0  59583.113984  1.0   1.5  lssti            23.0\n",
      "0  59583.379323  1.0   1.5  lsstu            25.0\n",
      "1  59583.889047  1.0   1.5  lsstg            25.0\n",
      "1  59584.208610  1.0   1.5  lsstz            23.0\n",
      "1  59585.001804  1.0   1.5  lsstu            25.0\n",
      "1  59585.407349  1.0   1.5  lssti            23.0\n",
      "2  59585.502525  1.0   1.5  lsstz            23.0\n",
      "2  59585.571265  1.0   1.5  lsstg            25.0\n",
      "2  59585.861033  1.0   1.5  lsstu            25.0\n",
      "0  59585.988696  1.0   1.5  lsstr            24.5\n",
      "3  59586.322604  1.0   1.5  lsstz            23.0\n",
      "4  59586.722110  1.0   1.5  lsstz            23.0\n",
      "3  59587.074164  1.0   1.5  lsstg            25.0\n",
      "3  59587.152219  1.0   1.5  lsstu            25.0\n",
      "4  59588.022875  1.0   1.5  lsstg            25.0\n",
      "2  59588.232984  1.0   1.5  lssti            23.0\n",
      "4  59588.275635  1.0   1.5  lsstu            25.0\n",
      "5  59588.369917  1.0   1.5  lsstz            23.0\n",
      "6  59588.879765  1.0   1.5  lsstu            25.0\n",
      "7  59589.487362  1.0   1.5  lsstu            25.0\n",
      "5  59589.578835  1.0   1.5  lsstu            25.0\n",
      "7  59589.601748  1.0   1.5  lsstz            23.0\n",
      "5  59589.767988  1.0   1.5  lsstg            25.0\n",
      "6  59589.917772  1.0   1.5  lsstz            23.0\n",
      "8  59590.612522  1.0   1.5  lsstz            23.0\n",
      "1  59590.674893  1.0   1.5  lsstr            24.5\n",
      "8  59590.917909  1.0   1.5  lsstu            25.0\n",
      "3  59591.027031  1.0   1.5  lssti            23.0\n",
      "6  59591.088245  1.0   1.5  lsstg            25.0\n",
      "4  59591.850441  1.0   1.5  lssti            23.0\n",
      "9  59591.851622  1.0   1.5  lsstu            25.0\n",
      "9  59592.074265  1.0   1.5  lsstz            23.0\n",
      "7  59592.501555  1.0   1.5  lsstg            25.0\n",
      "8  59593.505271  1.0   1.5  lsstg            25.0\n",
      "5  59594.524183  1.0   1.5  lssti            23.0\n",
      "9  59595.287971  1.0   1.5  lsstg            25.0\n",
      "2  59595.619593  1.0   1.5  lsstr            24.5\n",
      "6  59596.942495  1.0   1.5  lssti            23.0\n",
      "7  59599.026044  1.0   1.5  lssti            23.0\n",
      "3  59601.162934  1.0   1.5  lsstr            24.5\n",
      "8  59601.214586  1.0   1.5  lssti            23.0\n",
      "9  59603.071123  1.0   1.5  lssti            23.0\n",
      "4  59605.649026  1.0   1.5  lsstr            24.5\n",
      "5  59609.916459  1.0   1.5  lsstr            24.5\n",
      "6  59615.035289  1.0   1.5  lsstr            24.5\n",
      "7  59620.024420  1.0   1.5  lsstr            24.5\n",
      "8  59625.010549  1.0   1.5  lsstr            24.5\n",
      "9  59629.774673  1.0   1.5  lsstr            24.5\n"
     ]
    }
   ],
   "source": [
    "# specify the number of pointings per band \n",
    "num_obs = {'lsstg': 10, 'lsstr':10, 'lssti':10, 'lsstz':10, 'lsstu':10}\n",
    "\n",
    "# specify the cadence in days for each band\n",
    "average_cadence = {'lsstg': 1.5, 'lsstr': 5.0, 'lssti': 2.5, 'lsstz':1, 'lsstu':1}\n",
    "\n",
    "# specify any scatter on the cadence, the time of the observation will be \n",
    "# taken from a Gaussian with the scatter as sigma\n",
    "cadence_scatter = {'lsstg': 0.5, 'lsstr':0.5, 'lssti':0.5, 'lsstz':1, 'lsstu':1}\n",
    "\n",
    "# Specify limiting 5 sigma depth magnitude\n",
    "limiting_magnitudes = {'lsstg': 25.0, 'lsstr': 24.5, 'lssti': 23.0, 'lsstu':25, 'lsstz':23}\n",
    "\n",
    "# We now use redback to make a pointings table from the above information\n",
    "# We set RA and DEC to always be at the location of the transient \n",
    "# but we can change this to incorporate the fov/full survey\n",
    "ra = 1.0 \n",
    "dec = 1.5\n",
    "# We also set the start time of the observation/survey strategy \n",
    "initMJD = 59581.0\n",
    "pointings = redback.simulate_transients.make_pointing_table_from_average_cadence(\n",
    "    ra=ra, dec=dec, num_obs=num_obs, average_cadence=average_cadence,\n",
    "    cadence_scatter=cadence_scatter, limiting_magnitudes=limiting_magnitudes, \n",
    "    initMJD=initMJD)\n",
    "print(pointings)"
   ]
  },
  {
   "cell_type": "markdown",
   "id": "289e4d91",
   "metadata": {},
   "source": [
    "Note in the above we have made all the pointings at _ra and _dec to be the same place. \n",
    "\n",
    "We can make these different and let the telescope FOV to dictate if the 'transient' would be detected or not. \n",
    "\n",
    "The pointings are just a dataframe with the specific columns shown above. You could just as easily make your own up or read a table from somewhere else. The above is just meant to be a helpful function to make these pointings"
   ]
  },
  {
   "cell_type": "code",
   "execution_count": 45,
   "id": "61de9890",
   "metadata": {},
   "outputs": [
    {
     "name": "stderr",
     "output_type": "stream",
     "text": [
      "14:53 redback WARNING : [Errno 2] No such file or directory: '/Users/nikhil/Documents/postdoc/redback/redback/priors/one_component_kilonova.prior'\n",
      "14:53 redback WARNING : Returning empty PriorDict.\n"
     ]
    },
    {
     "name": "stdout",
     "output_type": "stream",
     "text": [
      "{'mej': 0.05, 't0_mjd_transient': 59582.0, 'redshift': 0.02, 't0': 59582.0, 'temperature_floor': 3000, 'kappa': 1, 'vej': 0.2, 'ra': 1.0, 'dec': 1.5}\n"
     ]
    }
   ],
   "source": [
    "model_kwargs = {}\n",
    "# Any redback model can be referred to as a string. \n",
    "# If the user has their own model, they can pass a function here instead. \n",
    "# There are over a 100 models implemented in redback, lots of models for kilonovae, GRB afterglows, \n",
    "# supernovae, TDEs and other things\n",
    "model = 'one_component_kilonova'\n",
    "# Load the default prior for this model in redback and sample from it to get 1 set of parameters. \n",
    "# We can sample from the default prior for this model for a random kilonova. \n",
    "parameters = redback.priors.get_priors(model=model).sample()\n",
    "\n",
    "# We fix a few parameters here to create a nice looking kilonova. \n",
    "# You can change any of the parameters here or add additional keyword arguments \n",
    "# to change some physical assumptions. Please refer to the documentation for this and units etc\n",
    "parameters['mej'] = 0.05\n",
    "parameters['t0_mjd_transient'] = 59582.0\n",
    "parameters['redshift'] = 0.02\n",
    "parameters['t0'] = parameters['t0_mjd_transient']\n",
    "parameters['temperature_floor'] = 3000\n",
    "parameters['kappa'] = 1\n",
    "parameters['vej'] = 0.2\n",
    "parameters['ra'] = 1.0\n",
    "parameters['dec'] = 1.5\n",
    "print(parameters)"
   ]
  },
  {
   "cell_type": "code",
   "execution_count": 46,
   "id": "f4a0003c",
   "metadata": {},
   "outputs": [
    {
     "name": "stderr",
     "output_type": "stream",
     "text": [
      "14:53 redback INFO    : Using the supplied as the pointing database.\n"
     ]
    }
   ],
   "source": [
    "# Specify some additional settings. \n",
    "# A threshold for data points to consider detections based on a SNR. \n",
    "snr_threshold = 5.0\n",
    "\n",
    "# A maximum time to evaluate the transient, \n",
    "# this is useful if you do not trust the model past a certain time or do not want to generate detections past this time. \n",
    "end_transient_time = 20\n",
    "\n",
    "# Simulate by passing in the parameters of the model, the model string (or a python function), \n",
    "# and the pointings generated above.\n",
    "kn_sim = SimulateOpticalTransient.simulate_transient(model='one_component_kilonova_model',\n",
    "                                       parameters=parameters, pointings_database=pointings,\n",
    "                                       survey=None, model_kwargs=model_kwargs,\n",
    "                                        end_transient_time=end_transient_time, snr_threshold=snr_threshold)"
   ]
  },
  {
   "cell_type": "code",
   "execution_count": 47,
   "id": "c7771031",
   "metadata": {},
   "outputs": [
    {
     "name": "stdout",
     "output_type": "stream",
     "text": [
      "            time  magnitude  e_magnitude   band system  flux_density(mjy)   \n",
      "0   59581.078907  24.217034          NaN  lsstz     AB       1.766565e-15  \\\n",
      "1   59582.521941  21.162627     0.006382  lsstg     AB       1.235434e-02   \n",
      "2   59583.113984  20.222857     0.016720  lssti     AB       2.975296e-02   \n",
      "3   59583.379323  22.513807     0.022238  lsstu     AB       3.545425e-03   \n",
      "4   59583.889047  21.630166     0.009722  lsstg     AB       8.109461e-03   \n",
      "5   59584.208610  19.960038     0.013372  lsstz     AB       3.719992e-02   \n",
      "6   59585.001804  25.084820     0.339427  lsstu     AB       2.322779e-04   \n",
      "7   59585.407349  21.004746     0.033863  lssti     AB       1.469029e-02   \n",
      "8   59585.502525  20.505726     0.022537  lsstz     AB       2.207314e-02   \n",
      "9   59585.571265  23.366788     0.052510  lsstg     AB       1.501448e-03   \n",
      "10  59585.861033  26.444881     0.623594  lsstu     AB       1.264306e-04   \n",
      "11  59585.988696  22.073040     0.023123  lsstr     AB       5.403977e-03   \n",
      "12  59586.322604  20.865025     0.031017  lsstz     AB       1.603802e-02   \n",
      "13  59586.722110  21.132082     0.037102  lsstz     AB       1.340795e-02   \n",
      "14  59587.074164  23.957506     0.100445  lsstg     AB       7.849217e-04   \n",
      "15  59587.152219  26.494788     1.099245  lsstu     AB       7.172321e-05   \n",
      "16  59588.022875  24.724244     0.159377  lsstg     AB       4.946839e-04   \n",
      "17  59588.232984  22.350957     0.118621  lssti     AB       4.193650e-03   \n",
      "18  59588.275635  27.422369     1.893603  lsstu     AB       4.163566e-05   \n",
      "19  59588.369917  22.033166     0.081916  lsstz     AB       6.072768e-03   \n",
      "20  59588.879765        NaN     2.480721  lsstu     AB       3.178164e-05   \n",
      "21  59589.487362        NaN     3.151330  lsstu     AB       2.501845e-05   \n",
      "22  59589.578835  28.044343     3.256467  lsstu     AB       2.421072e-05   \n",
      "23  59589.601748  22.410658     0.135922  lsstz     AB       3.659854e-03   \n",
      "24  59589.767988  26.409568     0.329787  lsstg     AB       2.390678e-04   \n",
      "25  59589.917772  22.736369     0.151121  lsstz     AB       3.291774e-03   \n",
      "26  59590.612522  22.879791     0.184343  lsstz     AB       2.698529e-03   \n",
      "27  59590.674893  24.362775     0.160373  lsstr     AB       7.791552e-04   \n",
      "28  59590.917909  26.596492     4.793949  lsstu     AB       1.644602e-05   \n",
      "29  59591.027031  23.306139     0.314014  lssti     AB       1.584185e-03   \n",
      "30  59591.088245  26.377242     0.472525  lsstg     AB       1.668512e-04   \n",
      "31  59591.850441  24.322903     0.368588  lssti     AB       1.349625e-03   \n",
      "32  59591.851622  26.991480     5.768531  lsstu     AB       1.366750e-05   \n",
      "33  59592.074265  23.027929     0.247752  lsstz     AB       2.007875e-03   \n",
      "34  59592.501555  26.123124     0.605194  lsstg     AB       1.302746e-04   \n",
      "35  59593.505271  27.161594     0.683429  lsstg     AB       1.153615e-04   \n",
      "36  59594.524183  23.626864     0.504265  lssti     AB       9.864955e-04   \n",
      "37  59595.287971  25.709811     0.788101  lsstg     AB       1.000397e-04   \n",
      "38  59595.619593  24.550629     0.299957  lsstr     AB       4.165777e-04   \n",
      "39  59596.942495  23.619671     0.570398  lssti     AB       8.721203e-04   \n",
      "40  59599.026044  23.543183     0.591935  lssti     AB       8.403887e-04   \n",
      "41  59601.162934  25.463862     0.329392  lsstr     AB       3.793509e-04   \n",
      "42  59601.214586  24.228097     0.593590  lssti     AB       8.380451e-04   \n",
      "\n",
      "    flux_density_error  flux(erg/cm2/s)    flux_error  time (days)  detected   \n",
      "0                  NaN     2.972036e-16  1.823467e-16    -0.921093       0.0  \\\n",
      "1             0.000073     2.081728e-14  1.214800e-16     0.521941       1.0   \n",
      "2             0.000458     1.847956e-14  2.863284e-16     1.113984       1.0   \n",
      "3             0.000073     3.773704e-15  7.644000e-17     1.379323       1.0   \n",
      "4             0.000073     1.353345e-14  1.214800e-16     1.889047       1.0   \n",
      "5             0.000458     1.499176e-14  1.823467e-16     2.208610       1.0   \n",
      "6             0.000073     3.534782e-16  7.644000e-17     3.001804       0.0   \n",
      "7             0.000458     8.993652e-15  2.863284e-16     3.407349       1.0   \n",
      "8             0.000458     9.069373e-15  1.823467e-16     3.502525       1.0   \n",
      "9             0.000073     2.733754e-15  1.214800e-16     3.571265       1.0   \n",
      "10            0.000073     1.010039e-16  7.644000e-17     3.861033       0.0   \n",
      "11            0.000115     5.086954e-15  1.088188e-16     3.988696       1.0   \n",
      "12            0.000458     6.514154e-15  1.823467e-16     4.322604       1.0   \n",
      "13            0.000458     5.093720e-15  1.823467e-16     4.722110       1.0   \n",
      "14            0.000073     1.586618e-15  1.214800e-16     5.074164       1.0   \n",
      "15            0.000073     9.646624e-17  7.644000e-17     5.152219       0.0   \n",
      "16            0.000073     7.830279e-16  1.214800e-16     6.022875       1.0   \n",
      "17            0.000458     2.602866e-15  2.863284e-16     6.232984       1.0   \n",
      "18            0.000073     4.105283e-17  7.644000e-17     6.275635       0.0   \n",
      "19            0.000458     2.221271e-15  1.823467e-16     6.369917       1.0   \n",
      "20            0.000073    -3.954964e-17  7.644000e-17     6.879765       0.0   \n",
      "21            0.000073    -5.667740e-18  7.644000e-17     7.487362       0.0   \n",
      "22            0.000073     2.315014e-17  7.644000e-17     7.578835       0.0   \n",
      "23            0.000458     1.568934e-15  1.823467e-16     7.601748       1.0   \n",
      "24            0.000073     1.658241e-16  1.214800e-16     7.767988       0.0   \n",
      "25            0.000458     1.162305e-15  1.823467e-16     7.917772       1.0   \n",
      "26            0.000458     1.018478e-15  1.823467e-16     8.612522       1.0   \n",
      "27            0.000115     6.173960e-16  1.088188e-16     8.674893       1.0   \n",
      "28            0.000073     8.784029e-17  7.644000e-17     8.917909       0.0   \n",
      "29            0.000458     1.079889e-15  2.863284e-16     9.027031       0.0   \n",
      "30            0.000073     1.708355e-16  1.214800e-16     9.088245       0.0   \n",
      "31            0.000458     4.233243e-16  2.863284e-16     9.850441       0.0   \n",
      "32            0.000073     6.105185e-17  7.644000e-17     9.851622       0.0   \n",
      "33            0.000458     8.885794e-16  1.823467e-16    10.074265       0.0   \n",
      "34            0.000073     2.158863e-16  1.214800e-16    10.501555       0.0   \n",
      "35            0.000073     8.295400e-17  1.214800e-16    11.505271       0.0   \n",
      "36            0.000458     8.036903e-16  2.863284e-16    12.524183       0.0   \n",
      "37            0.000073     3.159005e-16  1.214800e-16    13.287971       0.0   \n",
      "38            0.000115     5.193048e-16  1.088188e-16    13.619593       0.0   \n",
      "39            0.000458     8.090324e-16  2.863284e-16    14.942495       0.0   \n",
      "40            0.000458     8.680827e-16  2.863284e-16    17.026044       0.0   \n",
      "41            0.000115     2.239386e-16  1.088188e-16    19.162934       0.0   \n",
      "42            0.000458     4.619508e-16  2.863284e-16    19.214586       0.0   \n",
      "\n",
      "    limiting_magnitude  \n",
      "0                 23.0  \n",
      "1                 25.0  \n",
      "2                 23.0  \n",
      "3                 25.0  \n",
      "4                 25.0  \n",
      "5                 23.0  \n",
      "6                 25.0  \n",
      "7                 23.0  \n",
      "8                 23.0  \n",
      "9                 25.0  \n",
      "10                25.0  \n",
      "11                24.5  \n",
      "12                23.0  \n",
      "13                23.0  \n",
      "14                25.0  \n",
      "15                25.0  \n",
      "16                25.0  \n",
      "17                23.0  \n",
      "18                25.0  \n",
      "19                23.0  \n",
      "20                25.0  \n",
      "21                25.0  \n",
      "22                25.0  \n",
      "23                23.0  \n",
      "24                25.0  \n",
      "25                23.0  \n",
      "26                23.0  \n",
      "27                24.5  \n",
      "28                25.0  \n",
      "29                23.0  \n",
      "30                25.0  \n",
      "31                23.0  \n",
      "32                25.0  \n",
      "33                23.0  \n",
      "34                25.0  \n",
      "35                25.0  \n",
      "36                23.0  \n",
      "37                25.0  \n",
      "38                24.5  \n",
      "39                23.0  \n",
      "40                23.0  \n",
      "41                24.5  \n",
      "42                23.0  \n"
     ]
    }
   ],
   "source": [
    "# We can print the observations that were simulated to see what the data looks like. \n",
    "# This will include extra stuff like non-detections etc\n",
    "print(kn_sim.observations)"
   ]
  },
  {
   "cell_type": "code",
   "execution_count": 48,
   "id": "dec5e7f1",
   "metadata": {},
   "outputs": [],
   "source": [
    "# We can also save the observations to a file using the save_transient method.\n",
    "# This will save the observations to a csv file in a 'simulated' directory alongside the csv file\n",
    "# specifying the injection parameters.\n",
    "kn_sim.save_transient(name='my_kilonova')"
   ]
  },
  {
   "cell_type": "code",
   "execution_count": 49,
   "id": "9c0a2dac",
   "metadata": {},
   "outputs": [
    {
     "name": "stderr",
     "output_type": "stream",
     "text": [
      "14:53 redback WARNING : [Errno 2] No such file or directory: 'kilonova//my_kilonova_metadata.csv'\n",
      "14:53 redback WARNING : Setting metadata to None. This is not an error, but a warning that no metadata could be found online.\n"
     ]
    },
    {
     "data": {
      "image/png": "[encoded data removed]",
      "text/plain": [
       "<Figure size 640x480 with 1 Axes>"
      ]
     },
     "metadata": {},
     "output_type": "display_data"
    }
   ],
   "source": [
    "# We can load this transient object directly into redback via a convenience function\n",
    "\n",
    "kn_object = redback.transient.Kilonova.from_simulated_optical_data(name='my_kilonova', data_mode='magnitude')\n",
    "\n",
    "# Make a dictionary for colors on the plot\n",
    "band_colors = {'lsstg':'#4daf4a', 'lsstu':'#377eb8', 'lsstr':'#e41a1c', \n",
    "               'lsstz':'#a65628', 'lssti':'#ff7f00'}\n",
    "ax = kn_object.plot_data(show=False, band_colors=band_colors)"
   ]
  },
  {
   "cell_type": "markdown",
   "id": "689a933c",
   "metadata": {},
   "source": [
    "The above plot only shows the detection and not the input lightcurve or non-detections. Let's add those in. As the axes is returned with can use the attributes stored in the kn_sim object directly."
   ]
  },
  {
   "cell_type": "code",
   "execution_count": 51,
   "id": "dbcfc7b4",
   "metadata": {},
   "outputs": [
    {
     "data": {
      "text/plain": [
       "(0.1, 10.0)"
      ]
     },
     "execution_count": 51,
     "metadata": {},
     "output_type": "execute_result"
    },
    {
     "data": {
      "image/png": "[encoded data removed]",
      "text/plain": [
       "<Figure size 640x480 with 1 Axes>"
      ]
     },
     "metadata": {},
     "output_type": "display_data"
    }
   ],
   "source": [
    "# Make a dictionary for colors on the plot\n",
    "band_colors = {'lsstg':'#4daf4a', 'lsstu':'#377eb8', 'lsstr':'#e41a1c', \n",
    "               'lsstz':'#a65628', 'lssti':'#ff7f00'}\n",
    "ax = kn_object.plot_data(show=False, band_colors=band_colors)\n",
    "ax.set_ylim(26, 20)\n",
    "upper_limits = kn_sim.observations[kn_sim.observations['detected'] != 1.0]\n",
    "data = kn_sim.observations[kn_sim.observations['detected'] == 1.0]\n",
    "for band in band_colors.keys():\n",
    "    up = upper_limits[upper_limits['band'] == band]\n",
    "    dd = data[data['band'] == band]\n",
    "    plt.scatter(dd['time (days)'], dd['magnitude'], s=100, marker='.', color=band_colors[band])\n",
    "    plt.scatter(up['time (days)'], up['limiting_magnitude'], s=100, marker=r'$\\downarrow$', color=band_colors[band])\n",
    "\n",
    "    \n",
    "# We can also plot the true data \n",
    "tt = np.linspace(0.1, 20, 100)\n",
    "# specify output_format \n",
    "parameters['output_format'] = 'magnitude'\n",
    "for band in band_colors.keys():\n",
    "    parameters['bands'] = band\n",
    "    out = redback.transient_models.kilonova_models.one_component_kilonova_model(tt, **parameters)\n",
    "    plt.plot(tt, out, color=band_colors[band], alpha=0.3)\n",
    "\n",
    "plt.xlim(0.1, 10)\n",
    "\n"
   ]
  },
  {
   "cell_type": "markdown",
   "id": "38ac56df",
   "metadata": {},
   "source": [
    "By changing the pointing table (which is just a dataframe you could create from elsewhere) you can change the 'follow-up/survey strategy'"
   ]
  },
  {
   "cell_type": "markdown",
   "id": "e85ac574",
   "metadata": {},
   "source": [
    "## Now let's take the last step and simulate a lightcurve for Rubin/ZTF (both of which are directly implemented in redback, in terms of the telescope FOV/pointing table). "
   ]
  },
  {
   "cell_type": "code",
   "execution_count": 55,
   "id": "06513d85",
   "metadata": {},
   "outputs": [
    {
     "name": "stderr",
     "output_type": "stream",
     "text": [
      "14:58 redback INFO    : Using rubin_baseline_v3.0_10yrs.tar.gz as the pointing database corresponding to Rubin_10yr_baseline.\n"
     ]
    }
   ],
   "source": [
    "model_kwargs = {}\n",
    "# Load the default prior for this model in redback and sample from it to get 1 set of parameters.\n",
    "# We fix a few parameters here to create a nice looking kilonova\n",
    "parameters = redback.priors.get_priors(model='one_component_kilonova_model').sample()\n",
    "parameters['mej'] = 0.05\n",
    "parameters['t0_mjd_transient'] = 60250\n",
    "parameters['redshift'] = 0.01\n",
    "parameters['t0'] = parameters['t0_mjd_transient']\n",
    "parameters['temperature_floor'] = 3000\n",
    "parameters['kappa'] = 1\n",
    "parameters['vej'] = 0.2\n",
    "\n",
    "# We also can place the transient on the sky by setting the ra and dec parameters.\n",
    "# This will be randomly set from the pointing if not given.\n",
    "parameters['ra'] = 1.0\n",
    "parameters['dec'] = -0.5\n",
    "\n",
    "# We now simulate a kilonova using the SimulateOpticalTransient class.\n",
    "# Now specifying a survey string, which will load the pointings table from the tables directory in redback.\n",
    "# These tables will need to be downloaded from zenodo using the redback.utils if not already present.\n",
    "# Please look at the documentation for more details.\n",
    "kn_sim = SimulateOpticalTransient.simulate_transient_in_rubin(model='one_component_kilonova_model',\n",
    "                                                              survey='Rubin_10yr_baseline',\n",
    "                                                              parameters=parameters, model_kwargs=model_kwargs,\n",
    "                                                              end_transient_time=10., snr_threshold=5.)"
   ]
  },
  {
   "cell_type": "code",
   "execution_count": 56,
   "id": "a54b9ee5",
   "metadata": {},
   "outputs": [
    {
     "name": "stderr",
     "output_type": "stream",
     "text": [
      "14:58 redback WARNING : [Errno 2] No such file or directory: 'kilonova//my_kilonova_metadata.csv'\n",
      "14:58 redback WARNING : Setting metadata to None. This is not an error, but a warning that no metadata could be found online.\n"
     ]
    },
    {
     "data": {
      "image/png": "[encoded data removed]",
      "text/plain": [
       "<Figure size 640x480 with 1 Axes>"
      ]
     },
     "metadata": {},
     "output_type": "display_data"
    }
   ],
   "source": [
    "kn_sim.save_transient(name='my_kilonova')\n",
    "\n",
    "# We can now load the data into a transient object for plotting and other tasks such as inference.\n",
    "# Note that this will only the 'detected' data points. The user can add the non-detections back in if they wish.\n",
    "kn_object = redback.transient.Kilonova.from_simulated_optical_data(name='my_kilonova', data_mode='magnitude')\n",
    "ax = kn_object.plot_data(show=False)\n",
    "ax.set_ylim(23.5, 19)\n",
    "plt.show()"
   ]
  },
  {
   "cell_type": "markdown",
   "id": "7e2c0a18",
   "metadata": {},
   "source": [
    "Again, let's create a plot with the non-detections etc "
   ]
  },
  {
   "cell_type": "code",
   "execution_count": 82,
   "id": "96ea71e0",
   "metadata": {},
   "outputs": [
    {
     "data": {
      "text/plain": [
       "(-2.0, 15.0)"
      ]
     },
     "execution_count": 82,
     "metadata": {},
     "output_type": "execute_result"
    },
    {
     "data": {
      "image/png": "[encoded data removed]",
      "text/plain": [
       "<Figure size 640x480 with 1 Axes>"
      ]
     },
     "metadata": {},
     "output_type": "display_data"
    }
   ],
   "source": [
    "# Make a dictionary for colors on the plot\n",
    "band_colors = {'lsstg':'#4daf4a', 'lsstu':'#377eb8', 'lsstr':'#e41a1c', \n",
    "               'lsstz':'#a65628', 'lssti':'#ff7f00', 'lssty':'brown'}\n",
    "ax = kn_object.plot_data(show=False, band_colors=band_colors)\n",
    "ax.set_ylim(25, 17.5)\n",
    "upper_limits = kn_sim.observations[kn_sim.observations['detected'] != 1.0]\n",
    "data = kn_sim.observations[kn_sim.observations['detected'] == 1.0]\n",
    "for band in band_colors.keys():\n",
    "    up = upper_limits[upper_limits['band'] == band]\n",
    "    dd = data[data['band'] == band]\n",
    "    plt.scatter(dd['time (days)'], dd['magnitude'].values, s=100, marker='.', color=band_colors[band])\n",
    "    plt.scatter(up['time (days)'], up['limiting_magnitude'].values, s=100, marker=r'$\\downarrow$', color=band_colors[band])\n",
    "\n",
    "    \n",
    "# We can also plot the true data \n",
    "tt = np.linspace(0.1, 25, 100)\n",
    "# specify output_format \n",
    "parameters['output_format'] = 'magnitude'\n",
    "for band in band_colors.keys():\n",
    "    parameters['bands'] = band\n",
    "    out = redback.transient_models.kilonova_models.one_component_kilonova_model(tt, **parameters)\n",
    "    plt.plot(tt, out, color=band_colors[band], alpha=0.3)\n",
    "\n",
    "plt.xlim(-2, 15)"
   ]
  },
  {
   "cell_type": "markdown",
   "id": "ffe23ba6",
   "metadata": {},
   "source": [
    "## What if you want to simulate for a survey that redback does not have implemented?"
   ]
  },
  {
   "cell_type": "markdown",
   "id": "26193e52",
   "metadata": {},
   "source": [
    "You can call the class directory and set up things like a pointings table, survey FOV etc. Please look at the documentation.\n",
    " \n",
    "Only circular fov's are currently implemented in redback. This is definitely an extension we want to make."
   ]
  },
  {
   "cell_type": "markdown",
   "id": "8d4e7cef",
   "metadata": {},
   "source": [
    "# Simulating a full survey."
   ]
  },
  {
   "cell_type": "markdown",
   "id": "ff93c431",
   "metadata": {},
   "source": [
    "The above showed how to generate lightcurves for one single transient. What about doing a full survey? "
   ]
  },
  {
   "cell_type": "code",
   "execution_count": 103,
   "id": "deca570c",
   "metadata": {},
   "outputs": [],
   "source": [
    "# We now set up the parameters for the kilonova population. A full survey simulation requires a prior and a rate.\n",
    "rate = 30 #Gpc^-3 yr^-1\n",
    "\n",
    "# We now need to specify a prior for the source to follow. Let's use the default prior.\n",
    "prior = redback.priors.get_priors(model='one_component_kilonova_model')\n",
    "\n",
    "# Specify settings of the survey. \n",
    "survey_start_date = 58288 #MJD\n",
    "survey_duration = 1 #years"
   ]
  },
  {
   "cell_type": "markdown",
   "id": "fc6693d5",
   "metadata": {},
   "source": [
    "This will place sources uniformly in source frame out to a maximum distance \n",
    "set by the prior on the redshift and isotropically on the sky, and drawn in time following the rate above. \n",
    "Then see for all transients that occur whether the survey specified (by the pointing table/fov/settings) can make any detections \n",
    "\n"
   ]
  },
  {
   "cell_type": "code",
   "execution_count": 104,
   "id": "8799b650",
   "metadata": {},
   "outputs": [
    {
     "name": "stderr",
     "output_type": "stream",
     "text": [
      "16:15 redback INFO    : Using ztf.tar.gz as the pointing database corresponding to ztf.\n"
     ]
    }
   ],
   "source": [
    "kn_survey = SimulateFullOpticalSurvey(model='one_component_kilonova_model', survey='ztf',\n",
    "                                      rate=rate, prior=prior,end_transient_time=15., snr_threshold=5.,\n",
    "                                      survey_fov_sqdeg=36, survey_start_date=survey_start_date,\n",
    "                                      survey_duration=survey_duration, model_kwargs={})"
   ]
  },
  {
   "cell_type": "markdown",
   "id": "904aeab7",
   "metadata": {},
   "source": [
    "The full survey simulation returns a kn_survey object which includes the properties of all events and the detections etc. This can be saved via "
   ]
  },
  {
   "cell_type": "code",
   "execution_count": 105,
   "id": "4c50bd22",
   "metadata": {},
   "outputs": [],
   "source": [
    "kn_survey.save_survey(survey='my_survey')"
   ]
  },
  {
   "cell_type": "code",
   "execution_count": 112,
   "id": "429698f8",
   "metadata": {},
   "outputs": [
    {
     "name": "stdout",
     "output_type": "stream",
     "text": [
      "Number of kilonovae in survey volume = 17\n",
      "    redshift       mej       vej      kappa  temperature_floor        ra   \n",
      "0   0.075887  0.010901  0.480922  20.972761        2879.307118  5.182519  \\\n",
      "1   0.093083  0.046735  0.410562  13.363592         213.966803  6.091693   \n",
      "2   0.049433  0.022925  0.383307  23.882352        1720.841698  3.767875   \n",
      "3   0.017906  0.042836  0.201410  29.850724         417.979472  0.888811   \n",
      "4   0.051968  0.027956  0.375310  22.149215        1314.732119  6.109391   \n",
      "5   0.019607  0.034865  0.191542  17.752408        3065.079774  1.669848   \n",
      "6   0.073763  0.034175  0.495558   5.684611         372.375082  3.044033   \n",
      "7   0.078407  0.017165  0.496989  11.700151         105.740664  1.934444   \n",
      "8   0.077244  0.026845  0.305609  13.912262         372.913903  1.418934   \n",
      "9   0.069035  0.036672  0.495954  25.208027         258.115577  1.430663   \n",
      "10  0.089794  0.048006  0.380621  20.064931        2030.737975  1.811180   \n",
      "11  0.083908  0.026208  0.360729  10.246472         174.012625  4.195560   \n",
      "12  0.012014  0.030687  0.498015  27.064844        1113.393978  5.646561   \n",
      "13  0.085728  0.016494  0.366997   3.718953         115.678436  4.454984   \n",
      "14  0.083528  0.040282  0.467785   4.008969        2579.874641  1.855311   \n",
      "15  0.066507  0.017102  0.172515   4.139628         907.511475  4.580606   \n",
      "16  0.069831  0.036308  0.229395   2.207916        3564.112256  1.942755   \n",
      "\n",
      "         dec  t0_mjd_transient  \n",
      "0   0.815576      58302.460110  \n",
      "1  -0.920866      58302.998190  \n",
      "2  -0.057199      58339.583441  \n",
      "3  -0.984936      58344.449899  \n",
      "4   0.009651      58344.456880  \n",
      "5  -0.939922      58352.774544  \n",
      "6  -0.757794      58389.095245  \n",
      "7   0.603820      58399.544687  \n",
      "8  -1.407723      58412.808771  \n",
      "9   0.406002      58415.688588  \n",
      "10  0.479687      58429.053534  \n",
      "11 -0.589048      58569.600435  \n",
      "12  0.174359      58582.578692  \n",
      "13  0.016093      58592.578065  \n",
      "14  0.748114      58630.351413  \n",
      "15 -0.890133      58636.710989  \n",
      "16 -0.074567      58637.519823  \n"
     ]
    }
   ],
   "source": [
    "#let's check the parameters of the simulated kilonovae\n",
    "print('Number of kilonovae in survey volume = {}'.format(kn_survey.number_of_events))\n",
    "print(kn_survey.parameters)"
   ]
  },
  {
   "cell_type": "markdown",
   "id": "69825011",
   "metadata": {},
   "source": [
    "We can quickly see if we produced any detections. The answer will be no..."
   ]
  },
  {
   "cell_type": "code",
   "execution_count": 130,
   "id": "f1d56511",
   "metadata": {},
   "outputs": [
    {
     "name": "stdout",
     "output_type": "stream",
     "text": [
      "Event 0 has 0 detections out of 124 observations\n",
      "Event 1 has 0 detections out of 0 observations\n",
      "Event 2 has 0 detections out of 3 observations\n",
      "Event 3 has 0 detections out of 0 observations\n",
      "Event 4 has 0 detections out of 2 observations\n",
      "Event 5 has 0 detections out of 0 observations\n",
      "Event 6 has 0 detections out of 0 observations\n",
      "Event 7 has 0 detections out of 2 observations\n",
      "Event 8 has 0 detections out of 0 observations\n",
      "Event 9 has 0 detections out of 26 observations\n",
      "Event 10 has 0 detections out of 29 observations\n",
      "Event 11 has 0 detections out of 0 observations\n",
      "Event 12 has 0 detections out of 0 observations\n",
      "Event 13 has 0 detections out of 1 observations\n",
      "Event 14 has 0 detections out of 4 observations\n",
      "Event 15 has 0 detections out of 0 observations\n",
      "Event 16 has 0 detections out of 0 observations\n"
     ]
    }
   ],
   "source": [
    "for x in range(kn_survey.number_of_events):\n",
    "    observations = len(kn_survey.list_of_observations[x])\n",
    "    _detections = sum(kn_survey.list_of_observations[x]['detected'] == 1.)\n",
    "    print(\"Event {} has {} detections out of {} observations\".format(x, _detections, observations))"
   ]
  },
  {
   "cell_type": "markdown",
   "id": "8a218400",
   "metadata": {},
   "source": [
    "### That's quite sad. So how about I show how to simulate a transient population that would definitely produce detections in a survey instead."
   ]
  },
  {
   "cell_type": "code",
   "execution_count": 5,
   "id": "9231e186",
   "metadata": {},
   "outputs": [
    {
     "name": "stdout",
     "output_type": "stream",
     "text": [
      "{'redshift': array([0.00234833, 0.00481628, 0.00351675, 0.00271472, 0.00355759]), 'mej': array([0.04092758, 0.03230668, 0.03066487, 0.04466388, 0.02551935]), 'vej': array([0.19500222, 0.40748635, 0.22831493, 0.4838687 , 0.21328011]), 'kappa': array([12.86420518, 26.05799811, 18.71932281, 25.47273589, 16.48484498]), 'temperature_floor': array([ 826.29083298, 3750.39293867, 4110.99982413,  248.67296614,\n",
      "       2625.19920709]), 't0_mjd_transient': array([60260, 60280, 60290, 60360, 60320])}\n"
     ]
    }
   ],
   "source": [
    "prior = redback.priors.get_priors(model='one_component_kilonova_model')\n",
    "\n",
    "# Let's change the redshift prior to ensure we get some bright kilonovae.\n",
    "prior['redshift'] = bilby.core.prior.Uniform(0.002, 0.005, 'redshift', latex_label='$z$')\n",
    "# We can now sample from the prior to get a set of parameters for a kilonova. Let's sample 5 events.\n",
    "events = 5\n",
    "parameters = prior.sample(events)\n",
    "# For each kilonova we also need to provide a starting time. Let's keep this simple.\n",
    "parameters['t0_mjd_transient'] = np.array([60260, 60280, 60290, 60360, 60320])\n",
    "\n",
    "# We can also place the transient ourselves on the sky by setting the ra and dec parameters.\n",
    "# For now we will let redback randomly place the transients from ra and dec that are covered by the Rubin survey pointings.\n",
    "# Let's print all the values to be sure we are happy with them.\n",
    "print(parameters)"
   ]
  },
  {
   "cell_type": "code",
   "execution_count": 7,
   "id": "2af5952a",
   "metadata": {},
   "outputs": [
    {
     "name": "stderr",
     "output_type": "stream",
     "text": [
      "09:51 redback INFO    : Using rubin_baseline_v3.0_10yrs.tar.gz as the pointing database corresponding to Rubin_10yr_baseline.\n"
     ]
    },
    {
     "name": "stdout",
     "output_type": "stream",
     "text": [
      "[Empty DataFrame\n",
      "Columns: [time, magnitude, e_magnitude, band, system, flux_density(mjy), flux_density_error, flux(erg/cm2/s), flux_error, time (days), detected, limiting_magnitude]\n",
      "Index: [],           time  magnitude  e_magnitude   band system  flux_density(mjy)   \n",
      "4  60288.29215  20.705675     0.009056  lsstr     AB           0.019013  \\\n",
      "5  60288.31661  20.149984     0.013454  lssti     AB           0.031709   \n",
      "\n",
      "   flux_density_error  flux(erg/cm2/s)    flux_error  time (days)  detected   \n",
      "4            0.000159     1.792271e-14  1.499363e-16      8.29215       1.0  \\\n",
      "5            0.000393     1.976245e-14  2.455460e-16      8.31661       1.0   \n",
      "\n",
      "   limiting_magnitude  \n",
      "4           24.151993  \n",
      "5           23.166829  ,            time  magnitude  e_magnitude   band system  flux_density(mjy)   \n",
      "5  60291.119068  20.901275     0.005117  lsstg     AB           0.015804  \\\n",
      "6  60294.054418  19.036140     0.002982  lssti     AB           0.088407   \n",
      "7  60298.058636  19.610103     0.007020  lsstr     AB           0.051336   \n",
      "8  60298.083158  19.161083     0.003688  lssti     AB           0.078173   \n",
      "\n",
      "   flux_density_error  flux(erg/cm2/s)    flux_error  time (days)  detected   \n",
      "5            0.000074     2.648286e-14  1.246118e-16     1.119068       1.0  \\\n",
      "6            0.000243     5.512878e-14  1.517433e-16     4.054418       1.0   \n",
      "7            0.000332     4.916234e-14  3.138456e-16     8.058636       1.0   \n",
      "8            0.000266     4.913618e-14  1.659450e-16     8.083158       1.0   \n",
      "\n",
      "   limiting_magnitude  \n",
      "5           24.972364  \n",
      "6           23.689387  \n",
      "7           23.349969  \n",
      "8           23.592251  , Empty DataFrame\n",
      "Columns: [time, magnitude, e_magnitude, band, system, flux_density(mjy), flux_density_error, flux(erg/cm2/s), flux_error, time (days), detected, limiting_magnitude]\n",
      "Index: [],            time  magnitude  e_magnitude   band system  flux_density(mjy)   \n",
      "2  60320.354691  19.791054     0.015861  lssty     AB           0.043488  \\\n",
      "3  60320.366976  19.809259     0.022612  lssty     AB           0.044350   \n",
      "4  60329.280235  20.344243     0.008260  lssti     AB           0.026316   \n",
      "5  60329.305070  19.772460     0.008179  lsstz     AB           0.044847   \n",
      "\n",
      "   flux_density_error  flux(erg/cm2/s)    flux_error  time (days)  detected   \n",
      "2            0.000635     1.218273e-14  1.758470e-16     0.354691       1.0  \\\n",
      "3            0.000924     1.198015e-14  2.556634e-16     0.366976       1.0   \n",
      "4            0.000200     1.652484e-14  1.251193e-16     9.280235       1.0   \n",
      "5            0.000338     1.781902e-14  1.344523e-16     9.305070       1.0   \n",
      "\n",
      "   limiting_magnitude  \n",
      "2           22.645153  \n",
      "3           22.238819  \n",
      "4           23.898850  \n",
      "5           23.330824  ]\n"
     ]
    }
   ],
   "source": [
    "kn_sim = SimulateOpticalTransient.simulate_transient_population_in_rubin(model='one_component_kilonova_model',\n",
    "                                                                        survey='Rubin_10yr_baseline',\n",
    "                                                                        parameters=parameters, model_kwargs={},\n",
    "                                                                        end_transient_time=10., snr_threshold=5.)\n",
    "# We can print the observations that were simulated to see what the data looks like.\n",
    "print(kn_sim.list_of_inference_observations)\n",
    "\n",
    "# But why print when you can plot?\n",
    "# First, let's save the observations to a file.\n",
    "kn_sim.save_transient_population(transient_names=None)\n",
    "# This will save the transient data to a csv file in the 'simulated' directory \n",
    "# alongside the csv file of the injection parameters.\n",
    "# By default the name of the transient will be event_{}.csv where {} is the event number. \n",
    "# But you can also pass a list of names.\n",
    "\n",
    "# Now we can create redback objects of each of these transients and then plot them.\n",
    "# Note that this will only plot the 'detected' data points. \n",
    "# The user can add the non-detections back in if they wish."
   ]
  },
  {
   "cell_type": "markdown",
   "id": "a6731a83",
   "metadata": {},
   "source": [
    "Let's plot the observations/non-detections for all these objects. Remember we can also load the data up into a transient object and use that directly too."
   ]
  },
  {
   "cell_type": "code",
   "execution_count": 18,
   "id": "5ca0b565",
   "metadata": {},
   "outputs": [
    {
     "name": "stderr",
     "output_type": "stream",
     "text": [
      "09:57 redback WARNING : [Errno 2] No such file or directory: 'kilonova//event_0_metadata.csv'\n",
      "09:57 redback WARNING : Setting metadata to None. This is not an error, but a warning that no metadata could be found online.\n",
      "09:57 redback WARNING : [Errno 2] No such file or directory: 'kilonova//event_1_metadata.csv'\n",
      "09:57 redback WARNING : Setting metadata to None. This is not an error, but a warning that no metadata could be found online.\n",
      "09:57 redback WARNING : [Errno 2] No such file or directory: 'kilonova//event_2_metadata.csv'\n",
      "09:57 redback WARNING : Setting metadata to None. This is not an error, but a warning that no metadata could be found online.\n",
      "09:57 redback WARNING : [Errno 2] No such file or directory: 'kilonova//event_3_metadata.csv'\n",
      "09:57 redback WARNING : Setting metadata to None. This is not an error, but a warning that no metadata could be found online.\n",
      "09:57 redback WARNING : [Errno 2] No such file or directory: 'kilonova//event_4_metadata.csv'\n",
      "09:57 redback WARNING : Setting metadata to None. This is not an error, but a warning that no metadata could be found online.\n"
     ]
    }
   ],
   "source": [
    "objects = []\n",
    "for x in range(events):\n",
    "    kne = redback.transient.Kilonova.from_simulated_optical_data(name='event_{}'.format(x), data_mode='magnitude')\n",
    "    objects.append(kne)"
   ]
  }
 ],
 "metadata": {
  "kernelspec": {
   "display_name": "Python 3 (ipykernel)",
   "language": "python",
   "name": "python3"
  },
  "language_info": {
   "codemirror_mode": {
    "name": "ipython",
    "version": 3
   },
   "file_extension": ".py",
   "mimetype": "text/x-python",
   "name": "python",
   "nbconvert_exporter": "python",
   "pygments_lexer": "ipython3",
   "version": "3.10.7"
  }
 },
 "nbformat": 4,
 "nbformat_minor": 5
}
